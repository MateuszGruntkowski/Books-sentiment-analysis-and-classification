{
 "cells": [
  {
   "metadata": {},
   "cell_type": "code",
   "source": [
    "import pandas as pd\n",
    "\n",
    "books = pd.read_csv(\"data/books_with_categories.csv\")"
   ],
   "id": "f759acfe8449ef12",
   "outputs": [],
   "execution_count": null
  },
  {
   "metadata": {},
   "cell_type": "code",
   "source": [
    "from transformers import pipeline\n",
    "\n",
    "classifier = pipeline(\"text-classification\", model=\"j-hartmann/emotion-english-distilroberta-base\", top_k=None, device=0)"
   ],
   "id": "4e1cea9109deabee",
   "outputs": [],
   "execution_count": null
  },
  {
   "metadata": {},
   "cell_type": "code",
   "source": "classifier(\"I like this!\")",
   "id": "816522b7f8e8071b",
   "outputs": [],
   "execution_count": null
  },
  {
   "metadata": {},
   "cell_type": "code",
   "source": "books[\"description\"][0]",
   "id": "d8d690491428ab3a",
   "outputs": [],
   "execution_count": null
  },
  {
   "metadata": {},
   "cell_type": "code",
   "source": "classifier(books[\"description\"][0])",
   "id": "da46d67bb6828401",
   "outputs": [],
   "execution_count": null
  },
  {
   "metadata": {},
   "cell_type": "code",
   "source": "classifier(books['description'][0].split(\".\"))",
   "id": "284b11e23fffc1bf",
   "outputs": [],
   "execution_count": null
  },
  {
   "metadata": {},
   "cell_type": "code",
   "source": [
    "sentences = books[\"description\"][0].split(\".\")\n",
    "predictions = classifier(sentences)"
   ],
   "id": "2147ae157f665f47",
   "outputs": [],
   "execution_count": null
  },
  {
   "metadata": {},
   "cell_type": "code",
   "source": "sentences[0]",
   "id": "fb9976b679ccbebf",
   "outputs": [],
   "execution_count": null
  },
  {
   "metadata": {},
   "cell_type": "code",
   "source": "predictions[0]",
   "id": "692447674604f844",
   "outputs": [],
   "execution_count": null
  },
  {
   "metadata": {},
   "cell_type": "code",
   "source": "sentences[3]",
   "id": "b5662f45f87ad531",
   "outputs": [],
   "execution_count": null
  },
  {
   "metadata": {},
   "cell_type": "code",
   "source": "predictions[3]",
   "id": "f72b9f8161d91e",
   "outputs": [],
   "execution_count": null
  },
  {
   "metadata": {},
   "cell_type": "code",
   "source": "sorted(predictions[0], key=lambda x: x['label'])",
   "id": "b0c13277158b32ee",
   "outputs": [],
   "execution_count": null
  },
  {
   "metadata": {},
   "cell_type": "code",
   "source": [
    "import numpy as np\n",
    "\n",
    "emotion_labels = [\"anger\", \"disgust\", \"fear\", \"joy\", \"sadness\", \"surprise\", \"neutral\"]\n",
    "isbn = []\n",
    "emotion_scores = {label: [] for label in emotion_labels}\n",
    "\n",
    "def calculate_max_emotion_scores(predictions):\n",
    "  per_emotion_scores = {label: [] for label in emotion_labels}\n",
    "  for prediction in predictions:\n",
    "    sorted_predictions = sorted(prediction, key=lambda x: x['label'])\n",
    "    for index, label in enumerate(emotion_labels):\n",
    "      per_emotion_scores[label].append(sorted_predictions[index][\"score\"])\n",
    "  return {label: np.max(scores) for label, scores in per_emotion_scores.items()}"
   ],
   "id": "581531294236d582",
   "outputs": [],
   "execution_count": null
  },
  {
   "metadata": {},
   "cell_type": "code",
   "source": [
    "for i in range(10):\n",
    "  isbn.append(books[\"isbn13\"][i])\n",
    "  sentences = books[\"description\"][i].split(\".\")\n",
    "  predictions = classifier(sentences)\n",
    "  max_scores = calculate_max_emotion_scores(predictions)\n",
    "  for label in emotion_labels:\n",
    "    emotion_scores[label].append(max_scores[label])"
   ],
   "id": "6f5ce538bdcefb69",
   "outputs": [],
   "execution_count": null
  },
  {
   "metadata": {},
   "cell_type": "code",
   "source": "emotion_scores",
   "id": "b8bc429a820afdad",
   "outputs": [],
   "execution_count": null
  },
  {
   "metadata": {},
   "cell_type": "code",
   "source": [
    "from tqdm import tqdm\n",
    "\n",
    "emotion_labels = [\"anger\", \"disgust\", \"fear\", \"joy\", \"sadness\", \"surprise\", \"neutral\"]\n",
    "isbn = []\n",
    "emotion_scores = {label: [] for label in emotion_labels}\n",
    "\n",
    "for i in tqdm(range(len(books))):\n",
    "  isbn.append(books[\"isbn13\"][i])\n",
    "  sentences = books[\"description\"][i].split(\".\")\n",
    "  predictions = classifier(sentences)\n",
    "  max_scores = calculate_max_emotion_scores(predictions)\n",
    "  for label in emotion_labels:\n",
    "    emotion_scores[label].append(max_scores[label])"
   ],
   "id": "9d3e566de26cfab7",
   "outputs": [],
   "execution_count": null
  },
  {
   "metadata": {},
   "cell_type": "code",
   "source": [
    "emotions_df = pd.DataFrame(emotion_scores)\n",
    "emotions_df[\"isbn13\"] = isbn\n",
    "emotions_df"
   ],
   "id": "9a78346f917ef77e",
   "outputs": [],
   "execution_count": null
  },
  {
   "metadata": {},
   "cell_type": "code",
   "source": [
    "books = pd.merge(books, emotions_df, on=\"isbn13\")\n",
    "books.head()"
   ],
   "id": "46654b9a292ed9c6",
   "outputs": [],
   "execution_count": null
  },
  {
   "metadata": {},
   "cell_type": "code",
   "source": "books.to_csv(\"data/books_with_emotions.csv\", index=False)",
   "id": "ec99151471089cdd",
   "outputs": [],
   "execution_count": null
  }
 ],
 "metadata": {
  "kernelspec": {
   "name": "python3",
   "language": "python",
   "display_name": "Python 3 (ipykernel)"
  }
 },
 "nbformat": 4,
 "nbformat_minor": 9
}
