{
 "cells": [
  {
   "metadata": {
    "ExecuteTime": {
     "end_time": "2025-10-03T21:02:48.722698Z",
     "start_time": "2025-10-03T21:02:48.665192Z"
    }
   },
   "cell_type": "code",
   "source": [
    "import pandas as pd\n",
    "\n",
    "books = pd.read_csv(\"data/books_with_categories.csv\")"
   ],
   "id": "f759acfe8449ef12",
   "outputs": [],
   "execution_count": 1
  },
  {
   "metadata": {},
   "cell_type": "code",
   "source": [
    "from transformers import pipeline\n",
    "\n",
    "classifier = pipeline(\"text-classification\", model=\"j-hartmann/emotion-english-distilroberta-base\", top_k=None, device=0)"
   ],
   "id": "4e1cea9109deabee",
   "outputs": [],
   "execution_count": null
  },
  {
   "metadata": {
    "ExecuteTime": {
     "end_time": "2025-10-03T21:02:53.067867Z",
     "start_time": "2025-10-03T21:02:52.952512Z"
    }
   },
   "cell_type": "code",
   "source": "classifier(\"I like this!\")",
   "id": "816522b7f8e8071b",
   "outputs": [
    {
     "data": {
      "text/plain": [
       "[[{'label': 'joy', 'score': 0.9789161086082458},\n",
       "  {'label': 'neutral', 'score': 0.005833290051668882},\n",
       "  {'label': 'anger', 'score': 0.00522431917488575},\n",
       "  {'label': 'surprise', 'score': 0.0051293219439685345},\n",
       "  {'label': 'disgust', 'score': 0.002720646560192108},\n",
       "  {'label': 'sadness', 'score': 0.0018563242629170418},\n",
       "  {'label': 'fear', 'score': 0.00032007426489144564}]]"
      ]
     },
     "execution_count": 3,
     "metadata": {},
     "output_type": "execute_result"
    }
   ],
   "execution_count": 3
  },
  {
   "metadata": {
    "ExecuteTime": {
     "end_time": "2025-10-03T21:02:53.078666Z",
     "start_time": "2025-10-03T21:02:53.075651Z"
    }
   },
   "cell_type": "code",
   "source": "books[\"description\"][0]",
   "id": "d8d690491428ab3a",
   "outputs": [
    {
     "data": {
      "text/plain": [
       "'A NOVEL THAT READERS and critics have been eagerly anticipating for over a decade, Gilead is an astonishingly imagined story of remarkable lives. John Ames is a preacher, the son of a preacher and the grandson (both maternal and paternal) of preachers. It’s 1956 in Gilead, Iowa, towards the end of the Reverend Ames’s life, and he is absorbed in recording his family’s story, a legacy for the young son he will never see grow up. Haunted by his grandfather’s presence, John tells of the rift between his grandfather and his father: the elder, an angry visionary who fought for the abolitionist cause, and his son, an ardent pacifist. He is troubled, too, by his prodigal namesake, Jack (John Ames) Boughton, his best friend’s lost son who returns to Gilead searching for forgiveness and redemption. Told in John Ames’s joyous, rambling voice that finds beauty, humour and truth in the smallest of life’s details, Gilead is a song of celebration and acceptance of the best and the worst the world has to offer. At its heart is a tale of the sacred bonds between fathers and sons, pitch-perfect in style and story, set to dazzle critics and readers alike.'"
      ]
     },
     "execution_count": 4,
     "metadata": {},
     "output_type": "execute_result"
    }
   ],
   "execution_count": 4
  },
  {
   "metadata": {
    "ExecuteTime": {
     "end_time": "2025-10-03T21:02:53.177054Z",
     "start_time": "2025-10-03T21:02:53.153102Z"
    }
   },
   "cell_type": "code",
   "source": "classifier(books[\"description\"][0])",
   "id": "da46d67bb6828401",
   "outputs": [
    {
     "data": {
      "text/plain": [
       "[[{'label': 'fear', 'score': 0.6548410654067993},\n",
       "  {'label': 'neutral', 'score': 0.16985201835632324},\n",
       "  {'label': 'sadness', 'score': 0.1164090633392334},\n",
       "  {'label': 'surprise', 'score': 0.020700663328170776},\n",
       "  {'label': 'disgust', 'score': 0.019100729376077652},\n",
       "  {'label': 'joy', 'score': 0.015161307528614998},\n",
       "  {'label': 'anger', 'score': 0.003935149405151606}]]"
      ]
     },
     "execution_count": 5,
     "metadata": {},
     "output_type": "execute_result"
    }
   ],
   "execution_count": 5
  },
  {
   "metadata": {
    "ExecuteTime": {
     "end_time": "2025-10-03T21:02:53.295732Z",
     "start_time": "2025-10-03T21:02:53.246583Z"
    }
   },
   "cell_type": "code",
   "source": "classifier(books['description'][0].split(\".\"))",
   "id": "284b11e23fffc1bf",
   "outputs": [
    {
     "data": {
      "text/plain": [
       "[[{'label': 'surprise', 'score': 0.7296028733253479},\n",
       "  {'label': 'neutral', 'score': 0.14038555324077606},\n",
       "  {'label': 'fear', 'score': 0.06816219538450241},\n",
       "  {'label': 'joy', 'score': 0.04794241115450859},\n",
       "  {'label': 'anger', 'score': 0.009156358428299427},\n",
       "  {'label': 'disgust', 'score': 0.002628474496304989},\n",
       "  {'label': 'sadness', 'score': 0.002122160978615284}],\n",
       " [{'label': 'neutral', 'score': 0.4493706524372101},\n",
       "  {'label': 'disgust', 'score': 0.2735913395881653},\n",
       "  {'label': 'joy', 'score': 0.10908322036266327},\n",
       "  {'label': 'sadness', 'score': 0.09362722933292389},\n",
       "  {'label': 'anger', 'score': 0.04047833010554314},\n",
       "  {'label': 'surprise', 'score': 0.02697017788887024},\n",
       "  {'label': 'fear', 'score': 0.006879039574414492}],\n",
       " [{'label': 'neutral', 'score': 0.6462162137031555},\n",
       "  {'label': 'sadness', 'score': 0.2427332103252411},\n",
       "  {'label': 'disgust', 'score': 0.04342261329293251},\n",
       "  {'label': 'surprise', 'score': 0.028300540521740913},\n",
       "  {'label': 'joy', 'score': 0.014211442321538925},\n",
       "  {'label': 'fear', 'score': 0.014084079302847385},\n",
       "  {'label': 'anger', 'score': 0.011031880043447018}],\n",
       " [{'label': 'fear', 'score': 0.928167998790741},\n",
       "  {'label': 'anger', 'score': 0.03219102695584297},\n",
       "  {'label': 'neutral', 'score': 0.012808729894459248},\n",
       "  {'label': 'sadness', 'score': 0.008756889030337334},\n",
       "  {'label': 'surprise', 'score': 0.008597911335527897},\n",
       "  {'label': 'disgust', 'score': 0.008431846275925636},\n",
       "  {'label': 'joy', 'score': 0.001045582932420075}],\n",
       " [{'label': 'sadness', 'score': 0.9671575427055359},\n",
       "  {'label': 'neutral', 'score': 0.015104170888662338},\n",
       "  {'label': 'disgust', 'score': 0.006480592768639326},\n",
       "  {'label': 'fear', 'score': 0.005393994972109795},\n",
       "  {'label': 'surprise', 'score': 0.0022869433742016554},\n",
       "  {'label': 'anger', 'score': 0.0018428893527016044},\n",
       "  {'label': 'joy', 'score': 0.0017338789766654372}],\n",
       " [{'label': 'joy', 'score': 0.9327971935272217},\n",
       "  {'label': 'disgust', 'score': 0.03771771863102913},\n",
       "  {'label': 'neutral', 'score': 0.01589190773665905},\n",
       "  {'label': 'sadness', 'score': 0.006444551516324282},\n",
       "  {'label': 'anger', 'score': 0.005025018472224474},\n",
       "  {'label': 'surprise', 'score': 0.0015812073834240437},\n",
       "  {'label': 'fear', 'score': 0.0005423100665211678}],\n",
       " [{'label': 'joy', 'score': 0.6528703570365906},\n",
       "  {'label': 'neutral', 'score': 0.25427502393722534},\n",
       "  {'label': 'surprise', 'score': 0.0680830255150795},\n",
       "  {'label': 'sadness', 'score': 0.009908979758620262},\n",
       "  {'label': 'disgust', 'score': 0.006512209307402372},\n",
       "  {'label': 'anger', 'score': 0.004821312613785267},\n",
       "  {'label': 'fear', 'score': 0.003529016626998782}],\n",
       " [{'label': 'neutral', 'score': 0.5494765639305115},\n",
       "  {'label': 'sadness', 'score': 0.1116902083158493},\n",
       "  {'label': 'disgust', 'score': 0.10400670021772385},\n",
       "  {'label': 'surprise', 'score': 0.07876555621623993},\n",
       "  {'label': 'anger', 'score': 0.0641336739063263},\n",
       "  {'label': 'fear', 'score': 0.05136282742023468},\n",
       "  {'label': 'joy', 'score': 0.040564440190792084}]]"
      ]
     },
     "execution_count": 6,
     "metadata": {},
     "output_type": "execute_result"
    }
   ],
   "execution_count": 6
  },
  {
   "metadata": {
    "ExecuteTime": {
     "end_time": "2025-10-03T21:02:53.380760Z",
     "start_time": "2025-10-03T21:02:53.340336Z"
    }
   },
   "cell_type": "code",
   "source": [
    "sentences = books[\"description\"][0].split(\".\")\n",
    "predictions = classifier(sentences)"
   ],
   "id": "2147ae157f665f47",
   "outputs": [],
   "execution_count": 7
  },
  {
   "metadata": {
    "ExecuteTime": {
     "end_time": "2025-10-03T21:02:53.390885Z",
     "start_time": "2025-10-03T21:02:53.387345Z"
    }
   },
   "cell_type": "code",
   "source": "sentences[0]",
   "id": "fb9976b679ccbebf",
   "outputs": [
    {
     "data": {
      "text/plain": [
       "'A NOVEL THAT READERS and critics have been eagerly anticipating for over a decade, Gilead is an astonishingly imagined story of remarkable lives'"
      ]
     },
     "execution_count": 8,
     "metadata": {},
     "output_type": "execute_result"
    }
   ],
   "execution_count": 8
  },
  {
   "metadata": {
    "ExecuteTime": {
     "end_time": "2025-10-03T21:02:53.409622Z",
     "start_time": "2025-10-03T21:02:53.405416Z"
    }
   },
   "cell_type": "code",
   "source": "predictions[0]",
   "id": "692447674604f844",
   "outputs": [
    {
     "data": {
      "text/plain": [
       "[{'label': 'surprise', 'score': 0.7296028733253479},\n",
       " {'label': 'neutral', 'score': 0.14038555324077606},\n",
       " {'label': 'fear', 'score': 0.06816219538450241},\n",
       " {'label': 'joy', 'score': 0.04794241115450859},\n",
       " {'label': 'anger', 'score': 0.009156358428299427},\n",
       " {'label': 'disgust', 'score': 0.002628474496304989},\n",
       " {'label': 'sadness', 'score': 0.002122160978615284}]"
      ]
     },
     "execution_count": 9,
     "metadata": {},
     "output_type": "execute_result"
    }
   ],
   "execution_count": 9
  },
  {
   "metadata": {
    "ExecuteTime": {
     "end_time": "2025-10-03T21:02:53.423666Z",
     "start_time": "2025-10-03T21:02:53.419455Z"
    }
   },
   "cell_type": "code",
   "source": "sentences[3]",
   "id": "b5662f45f87ad531",
   "outputs": [
    {
     "data": {
      "text/plain": [
       "' Haunted by his grandfather’s presence, John tells of the rift between his grandfather and his father: the elder, an angry visionary who fought for the abolitionist cause, and his son, an ardent pacifist'"
      ]
     },
     "execution_count": 10,
     "metadata": {},
     "output_type": "execute_result"
    }
   ],
   "execution_count": 10
  },
  {
   "metadata": {
    "ExecuteTime": {
     "end_time": "2025-10-03T21:02:53.447342Z",
     "start_time": "2025-10-03T21:02:53.443729Z"
    }
   },
   "cell_type": "code",
   "source": "predictions[3]",
   "id": "f72b9f8161d91e",
   "outputs": [
    {
     "data": {
      "text/plain": [
       "[{'label': 'fear', 'score': 0.928167998790741},\n",
       " {'label': 'anger', 'score': 0.03219102695584297},\n",
       " {'label': 'neutral', 'score': 0.012808729894459248},\n",
       " {'label': 'sadness', 'score': 0.008756889030337334},\n",
       " {'label': 'surprise', 'score': 0.008597911335527897},\n",
       " {'label': 'disgust', 'score': 0.008431846275925636},\n",
       " {'label': 'joy', 'score': 0.001045582932420075}]"
      ]
     },
     "execution_count": 11,
     "metadata": {},
     "output_type": "execute_result"
    }
   ],
   "execution_count": 11
  },
  {
   "metadata": {
    "ExecuteTime": {
     "end_time": "2025-10-03T21:02:53.462788Z",
     "start_time": "2025-10-03T21:02:53.459338Z"
    }
   },
   "cell_type": "code",
   "source": "sorted(predictions[0], key=lambda x: x['label'])",
   "id": "b0c13277158b32ee",
   "outputs": [
    {
     "data": {
      "text/plain": [
       "[{'label': 'anger', 'score': 0.009156358428299427},\n",
       " {'label': 'disgust', 'score': 0.002628474496304989},\n",
       " {'label': 'fear', 'score': 0.06816219538450241},\n",
       " {'label': 'joy', 'score': 0.04794241115450859},\n",
       " {'label': 'neutral', 'score': 0.14038555324077606},\n",
       " {'label': 'sadness', 'score': 0.002122160978615284},\n",
       " {'label': 'surprise', 'score': 0.7296028733253479}]"
      ]
     },
     "execution_count": 12,
     "metadata": {},
     "output_type": "execute_result"
    }
   ],
   "execution_count": 12
  },
  {
   "metadata": {
    "ExecuteTime": {
     "end_time": "2025-10-03T21:02:53.473873Z",
     "start_time": "2025-10-03T21:02:53.469873Z"
    }
   },
   "cell_type": "code",
   "source": [
    "import numpy as np\n",
    "\n",
    "emotion_labels = [\"anger\", \"disgust\", \"fear\", \"joy\", \"sadness\", \"surprise\", \"neutral\"]\n",
    "isbn = []\n",
    "emotion_scores = {label: [] for label in emotion_labels}\n",
    "\n",
    "def calculate_max_emotion_scores(predictions):\n",
    "  per_emotion_scores = {label: [] for label in emotion_labels}\n",
    "  for prediction in predictions:\n",
    "    sorted_predictions = sorted(prediction, key=lambda x: x['label'])\n",
    "    for index, label in enumerate(emotion_labels):\n",
    "      per_emotion_scores[label].append(sorted_predictions[index][\"score\"])\n",
    "  return {label: np.max(scores) for label, scores in per_emotion_scores.items()}"
   ],
   "id": "581531294236d582",
   "outputs": [],
   "execution_count": 13
  },
  {
   "metadata": {},
   "cell_type": "code",
   "source": [
    "for i in range(10):\n",
    "  isbn.append(books[\"isbn13\"][i])\n",
    "  sentences = books[\"description\"][i].split(\".\")\n",
    "  predictions = classifier(sentences)\n",
    "  max_scores = calculate_max_emotion_scores(predictions)\n",
    "  for label in emotion_labels:\n",
    "    emotion_scores[label].append(max_scores[label])"
   ],
   "id": "6f5ce538bdcefb69",
   "outputs": [],
   "execution_count": null
  },
  {
   "metadata": {
    "ExecuteTime": {
     "end_time": "2025-10-03T21:02:53.701611Z",
     "start_time": "2025-10-03T21:02:53.697804Z"
    }
   },
   "cell_type": "code",
   "source": "emotion_scores",
   "id": "b8bc429a820afdad",
   "outputs": [
    {
     "data": {
      "text/plain": [
       "{'anger': [0.0641336739063263,\n",
       "  0.6126185059547424,\n",
       "  0.0641336739063263,\n",
       "  0.351483553647995,\n",
       "  0.08141247183084488,\n",
       "  0.2322249710559845,\n",
       "  0.5381843447685242,\n",
       "  0.0641336739063263,\n",
       "  0.30067017674446106,\n",
       "  0.0641336739063263],\n",
       " 'disgust': [0.2735913395881653,\n",
       "  0.34828537702560425,\n",
       "  0.10400670021772385,\n",
       "  0.15072250366210938,\n",
       "  0.1844954937696457,\n",
       "  0.727174699306488,\n",
       "  0.15585514903068542,\n",
       "  0.10400670021772385,\n",
       "  0.2794813811779022,\n",
       "  0.17792755365371704],\n",
       " 'fear': [0.928167998790741,\n",
       "  0.9425278306007385,\n",
       "  0.9723208546638489,\n",
       "  0.36070677638053894,\n",
       "  0.09504334628582001,\n",
       "  0.05136282742023468,\n",
       "  0.7474286556243896,\n",
       "  0.4044957756996155,\n",
       "  0.9155241250991821,\n",
       "  0.05136282742023468],\n",
       " 'joy': [0.9327971935272217,\n",
       "  0.7044215202331543,\n",
       "  0.7672368884086609,\n",
       "  0.25188103318214417,\n",
       "  0.040564440190792084,\n",
       "  0.04337584972381592,\n",
       "  0.8725654482841492,\n",
       "  0.040564440190792084,\n",
       "  0.040564440190792084,\n",
       "  0.040564440190792084],\n",
       " 'sadness': [0.6462162137031555,\n",
       "  0.8879395127296448,\n",
       "  0.5494765639305115,\n",
       "  0.7326856851577759,\n",
       "  0.8843895196914673,\n",
       "  0.6213927268981934,\n",
       "  0.7121942639350891,\n",
       "  0.5494765639305115,\n",
       "  0.8402895331382751,\n",
       "  0.8603722453117371],\n",
       " 'surprise': [0.9671575427055359,\n",
       "  0.1116902083158493,\n",
       "  0.1116902083158493,\n",
       "  0.1116902083158493,\n",
       "  0.4758804440498352,\n",
       "  0.1116902083158493,\n",
       "  0.4080008268356323,\n",
       "  0.8202821612358093,\n",
       "  0.35446029901504517,\n",
       "  0.1116902083158493],\n",
       " 'neutral': [0.7296028733253479,\n",
       "  0.2525455355644226,\n",
       "  0.07876555621623993,\n",
       "  0.07876555621623993,\n",
       "  0.07876555621623993,\n",
       "  0.27190276980400085,\n",
       "  0.07876555621623993,\n",
       "  0.23448750376701355,\n",
       "  0.1356140822172165,\n",
       "  0.07876555621623993]}"
      ]
     },
     "execution_count": 15,
     "metadata": {},
     "output_type": "execute_result"
    }
   ],
   "execution_count": 15
  },
  {
   "metadata": {
    "ExecuteTime": {
     "end_time": "2025-10-03T21:04:09.190988Z",
     "start_time": "2025-10-03T21:02:53.708436Z"
    }
   },
   "cell_type": "code",
   "source": [
    "from tqdm import tqdm\n",
    "\n",
    "emotion_labels = [\"anger\", \"disgust\", \"fear\", \"joy\", \"sadness\", \"surprise\", \"neutral\"]\n",
    "isbn = []\n",
    "emotion_scores = {label: [] for label in emotion_labels}\n",
    "\n",
    "for i in tqdm(range(len(books))):\n",
    "  isbn.append(books[\"isbn13\"][i])\n",
    "  sentences = books[\"description\"][i].split(\".\")\n",
    "  predictions = classifier(sentences)\n",
    "  max_scores = calculate_max_emotion_scores(predictions)\n",
    "  for label in emotion_labels:\n",
    "    emotion_scores[label].append(max_scores[label])"
   ],
   "id": "9d3e566de26cfab7",
   "outputs": [
    {
     "name": "stderr",
     "output_type": "stream",
     "text": [
      "100%|██████████| 5230/5230 [01:15<00:00, 69.29it/s] \n"
     ]
    }
   ],
   "execution_count": 16
  },
  {
   "metadata": {
    "ExecuteTime": {
     "end_time": "2025-10-03T21:04:09.223776Z",
     "start_time": "2025-10-03T21:04:09.203784Z"
    }
   },
   "cell_type": "code",
   "source": [
    "emotions_df = pd.DataFrame(emotion_scores)\n",
    "emotions_df[\"isbn13\"] = isbn\n",
    "emotions_df"
   ],
   "id": "9a78346f917ef77e",
   "outputs": [
    {
     "data": {
      "text/plain": [
       "         anger   disgust      fear       joy   sadness  surprise   neutral  \\\n",
       "0     0.064134  0.273591  0.928168  0.932797  0.646216  0.967158  0.729603   \n",
       "1     0.612619  0.348285  0.942528  0.704422  0.887940  0.111690  0.252546   \n",
       "2     0.064134  0.104007  0.972321  0.767237  0.549477  0.111690  0.078766   \n",
       "3     0.351484  0.150723  0.360707  0.251881  0.732686  0.111690  0.078766   \n",
       "4     0.081412  0.184495  0.095043  0.040564  0.884390  0.475880  0.078766   \n",
       "...        ...       ...       ...       ...       ...       ...       ...   \n",
       "5225  0.148208  0.030643  0.919165  0.255170  0.853722  0.980877  0.030656   \n",
       "5226  0.064134  0.114383  0.051363  0.400263  0.883198  0.111690  0.227765   \n",
       "5227  0.009997  0.009929  0.339218  0.947779  0.375755  0.066685  0.057625   \n",
       "5228  0.064134  0.104007  0.459269  0.759455  0.951104  0.368111  0.078766   \n",
       "5229  0.064134  0.104007  0.051363  0.958549  0.915193  0.111690  0.078766   \n",
       "\n",
       "             isbn13  \n",
       "0     9780002005883  \n",
       "1     9780002261982  \n",
       "2     9780006178736  \n",
       "3     9780006280897  \n",
       "4     9780006280934  \n",
       "...             ...  \n",
       "5225  9788172235222  \n",
       "5226  9788173031014  \n",
       "5227  9788179921623  \n",
       "5228  9788185300535  \n",
       "5229  9789027712059  \n",
       "\n",
       "[5230 rows x 8 columns]"
      ],
      "text/html": [
       "<div>\n",
       "<style scoped>\n",
       "    .dataframe tbody tr th:only-of-type {\n",
       "        vertical-align: middle;\n",
       "    }\n",
       "\n",
       "    .dataframe tbody tr th {\n",
       "        vertical-align: top;\n",
       "    }\n",
       "\n",
       "    .dataframe thead th {\n",
       "        text-align: right;\n",
       "    }\n",
       "</style>\n",
       "<table border=\"1\" class=\"dataframe\">\n",
       "  <thead>\n",
       "    <tr style=\"text-align: right;\">\n",
       "      <th></th>\n",
       "      <th>anger</th>\n",
       "      <th>disgust</th>\n",
       "      <th>fear</th>\n",
       "      <th>joy</th>\n",
       "      <th>sadness</th>\n",
       "      <th>surprise</th>\n",
       "      <th>neutral</th>\n",
       "      <th>isbn13</th>\n",
       "    </tr>\n",
       "  </thead>\n",
       "  <tbody>\n",
       "    <tr>\n",
       "      <th>0</th>\n",
       "      <td>0.064134</td>\n",
       "      <td>0.273591</td>\n",
       "      <td>0.928168</td>\n",
       "      <td>0.932797</td>\n",
       "      <td>0.646216</td>\n",
       "      <td>0.967158</td>\n",
       "      <td>0.729603</td>\n",
       "      <td>9780002005883</td>\n",
       "    </tr>\n",
       "    <tr>\n",
       "      <th>1</th>\n",
       "      <td>0.612619</td>\n",
       "      <td>0.348285</td>\n",
       "      <td>0.942528</td>\n",
       "      <td>0.704422</td>\n",
       "      <td>0.887940</td>\n",
       "      <td>0.111690</td>\n",
       "      <td>0.252546</td>\n",
       "      <td>9780002261982</td>\n",
       "    </tr>\n",
       "    <tr>\n",
       "      <th>2</th>\n",
       "      <td>0.064134</td>\n",
       "      <td>0.104007</td>\n",
       "      <td>0.972321</td>\n",
       "      <td>0.767237</td>\n",
       "      <td>0.549477</td>\n",
       "      <td>0.111690</td>\n",
       "      <td>0.078766</td>\n",
       "      <td>9780006178736</td>\n",
       "    </tr>\n",
       "    <tr>\n",
       "      <th>3</th>\n",
       "      <td>0.351484</td>\n",
       "      <td>0.150723</td>\n",
       "      <td>0.360707</td>\n",
       "      <td>0.251881</td>\n",
       "      <td>0.732686</td>\n",
       "      <td>0.111690</td>\n",
       "      <td>0.078766</td>\n",
       "      <td>9780006280897</td>\n",
       "    </tr>\n",
       "    <tr>\n",
       "      <th>4</th>\n",
       "      <td>0.081412</td>\n",
       "      <td>0.184495</td>\n",
       "      <td>0.095043</td>\n",
       "      <td>0.040564</td>\n",
       "      <td>0.884390</td>\n",
       "      <td>0.475880</td>\n",
       "      <td>0.078766</td>\n",
       "      <td>9780006280934</td>\n",
       "    </tr>\n",
       "    <tr>\n",
       "      <th>...</th>\n",
       "      <td>...</td>\n",
       "      <td>...</td>\n",
       "      <td>...</td>\n",
       "      <td>...</td>\n",
       "      <td>...</td>\n",
       "      <td>...</td>\n",
       "      <td>...</td>\n",
       "      <td>...</td>\n",
       "    </tr>\n",
       "    <tr>\n",
       "      <th>5225</th>\n",
       "      <td>0.148208</td>\n",
       "      <td>0.030643</td>\n",
       "      <td>0.919165</td>\n",
       "      <td>0.255170</td>\n",
       "      <td>0.853722</td>\n",
       "      <td>0.980877</td>\n",
       "      <td>0.030656</td>\n",
       "      <td>9788172235222</td>\n",
       "    </tr>\n",
       "    <tr>\n",
       "      <th>5226</th>\n",
       "      <td>0.064134</td>\n",
       "      <td>0.114383</td>\n",
       "      <td>0.051363</td>\n",
       "      <td>0.400263</td>\n",
       "      <td>0.883198</td>\n",
       "      <td>0.111690</td>\n",
       "      <td>0.227765</td>\n",
       "      <td>9788173031014</td>\n",
       "    </tr>\n",
       "    <tr>\n",
       "      <th>5227</th>\n",
       "      <td>0.009997</td>\n",
       "      <td>0.009929</td>\n",
       "      <td>0.339218</td>\n",
       "      <td>0.947779</td>\n",
       "      <td>0.375755</td>\n",
       "      <td>0.066685</td>\n",
       "      <td>0.057625</td>\n",
       "      <td>9788179921623</td>\n",
       "    </tr>\n",
       "    <tr>\n",
       "      <th>5228</th>\n",
       "      <td>0.064134</td>\n",
       "      <td>0.104007</td>\n",
       "      <td>0.459269</td>\n",
       "      <td>0.759455</td>\n",
       "      <td>0.951104</td>\n",
       "      <td>0.368111</td>\n",
       "      <td>0.078766</td>\n",
       "      <td>9788185300535</td>\n",
       "    </tr>\n",
       "    <tr>\n",
       "      <th>5229</th>\n",
       "      <td>0.064134</td>\n",
       "      <td>0.104007</td>\n",
       "      <td>0.051363</td>\n",
       "      <td>0.958549</td>\n",
       "      <td>0.915193</td>\n",
       "      <td>0.111690</td>\n",
       "      <td>0.078766</td>\n",
       "      <td>9789027712059</td>\n",
       "    </tr>\n",
       "  </tbody>\n",
       "</table>\n",
       "<p>5230 rows × 8 columns</p>\n",
       "</div>"
      ]
     },
     "execution_count": 17,
     "metadata": {},
     "output_type": "execute_result"
    }
   ],
   "execution_count": 17
  },
  {
   "metadata": {
    "ExecuteTime": {
     "end_time": "2025-10-03T21:04:09.254608Z",
     "start_time": "2025-10-03T21:04:09.245381Z"
    }
   },
   "cell_type": "code",
   "source": [
    "books = pd.merge(books, emotions_df, on=\"isbn13\")\n",
    "books.head()"
   ],
   "id": "46654b9a292ed9c6",
   "outputs": [
    {
     "data": {
      "text/plain": [
       "          isbn13      isbn10                title  \\\n",
       "0  9780002005883  0002005883               Gilead   \n",
       "1  9780002261982  0002261987         Spider's Web   \n",
       "2  9780006178736  0006178731       Rage of angels   \n",
       "3  9780006280897  0006280897       The Four Loves   \n",
       "4  9780006280934  0006280935  The Problem of Pain   \n",
       "\n",
       "                           authors                     categories  \\\n",
       "0               Marilynne Robinson                        Fiction   \n",
       "1  Charles Osborne;Agatha Christie  Detective and mystery stories   \n",
       "2                   Sidney Sheldon                        Fiction   \n",
       "3              Clive Staples Lewis                 Christian life   \n",
       "4              Clive Staples Lewis                 Christian life   \n",
       "\n",
       "                                           thumbnail  \\\n",
       "0  http://books.google.com/books/content?id=KQZCP...   \n",
       "1  http://books.google.com/books/content?id=gA5GP...   \n",
       "2  http://books.google.com/books/content?id=FKo2T...   \n",
       "3  http://books.google.com/books/content?id=XhQ5X...   \n",
       "4  http://books.google.com/books/content?id=Kk-uV...   \n",
       "\n",
       "                                         description  published_year  \\\n",
       "0  A NOVEL THAT READERS and critics have been eag...          2004.0   \n",
       "1  A new 'Christie for Christmas' -- a full-lengt...          2000.0   \n",
       "2  A memorable, mesmerizing heroine Jennifer -- b...          1993.0   \n",
       "3  Lewis' work on the nature of love divides love...          2002.0   \n",
       "4  \"In The Problem of Pain, C.S. Lewis, one of th...          2002.0   \n",
       "\n",
       "   average_rating  num_pages  ...     title_and_subtitle  \\\n",
       "0            3.85      247.0  ...                 Gilead   \n",
       "1            3.83      241.0  ...  Spider's Web: A Novel   \n",
       "2            3.93      512.0  ...         Rage of angels   \n",
       "3            4.15      170.0  ...         The Four Loves   \n",
       "4            4.09      176.0  ...    The Problem of Pain   \n",
       "\n",
       "                                  tagged_description simple_categories  \\\n",
       "0  9780002005883 A NOVEL THAT READERS and critics...           Fiction   \n",
       "1  9780002261982 A new 'Christie for Christmas' -...           Fiction   \n",
       "2  9780006178736 A memorable, mesmerizing heroine...           Fiction   \n",
       "3  9780006280897 Lewis' work on the nature of lov...        Nonfiction   \n",
       "4  9780006280934 \"In The Problem of Pain, C.S. Le...        Nonfiction   \n",
       "\n",
       "      anger   disgust      fear       joy   sadness  surprise   neutral  \n",
       "0  0.064134  0.273591  0.928168  0.932797  0.646216  0.967158  0.729603  \n",
       "1  0.612619  0.348285  0.942528  0.704422  0.887940  0.111690  0.252546  \n",
       "2  0.064134  0.104007  0.972321  0.767237  0.549477  0.111690  0.078766  \n",
       "3  0.351484  0.150723  0.360707  0.251881  0.732686  0.111690  0.078766  \n",
       "4  0.081412  0.184495  0.095043  0.040564  0.884390  0.475880  0.078766  \n",
       "\n",
       "[5 rows x 21 columns]"
      ],
      "text/html": [
       "<div>\n",
       "<style scoped>\n",
       "    .dataframe tbody tr th:only-of-type {\n",
       "        vertical-align: middle;\n",
       "    }\n",
       "\n",
       "    .dataframe tbody tr th {\n",
       "        vertical-align: top;\n",
       "    }\n",
       "\n",
       "    .dataframe thead th {\n",
       "        text-align: right;\n",
       "    }\n",
       "</style>\n",
       "<table border=\"1\" class=\"dataframe\">\n",
       "  <thead>\n",
       "    <tr style=\"text-align: right;\">\n",
       "      <th></th>\n",
       "      <th>isbn13</th>\n",
       "      <th>isbn10</th>\n",
       "      <th>title</th>\n",
       "      <th>authors</th>\n",
       "      <th>categories</th>\n",
       "      <th>thumbnail</th>\n",
       "      <th>description</th>\n",
       "      <th>published_year</th>\n",
       "      <th>average_rating</th>\n",
       "      <th>num_pages</th>\n",
       "      <th>...</th>\n",
       "      <th>title_and_subtitle</th>\n",
       "      <th>tagged_description</th>\n",
       "      <th>simple_categories</th>\n",
       "      <th>anger</th>\n",
       "      <th>disgust</th>\n",
       "      <th>fear</th>\n",
       "      <th>joy</th>\n",
       "      <th>sadness</th>\n",
       "      <th>surprise</th>\n",
       "      <th>neutral</th>\n",
       "    </tr>\n",
       "  </thead>\n",
       "  <tbody>\n",
       "    <tr>\n",
       "      <th>0</th>\n",
       "      <td>9780002005883</td>\n",
       "      <td>0002005883</td>\n",
       "      <td>Gilead</td>\n",
       "      <td>Marilynne Robinson</td>\n",
       "      <td>Fiction</td>\n",
       "      <td>http://books.google.com/books/content?id=KQZCP...</td>\n",
       "      <td>A NOVEL THAT READERS and critics have been eag...</td>\n",
       "      <td>2004.0</td>\n",
       "      <td>3.85</td>\n",
       "      <td>247.0</td>\n",
       "      <td>...</td>\n",
       "      <td>Gilead</td>\n",
       "      <td>9780002005883 A NOVEL THAT READERS and critics...</td>\n",
       "      <td>Fiction</td>\n",
       "      <td>0.064134</td>\n",
       "      <td>0.273591</td>\n",
       "      <td>0.928168</td>\n",
       "      <td>0.932797</td>\n",
       "      <td>0.646216</td>\n",
       "      <td>0.967158</td>\n",
       "      <td>0.729603</td>\n",
       "    </tr>\n",
       "    <tr>\n",
       "      <th>1</th>\n",
       "      <td>9780002261982</td>\n",
       "      <td>0002261987</td>\n",
       "      <td>Spider's Web</td>\n",
       "      <td>Charles Osborne;Agatha Christie</td>\n",
       "      <td>Detective and mystery stories</td>\n",
       "      <td>http://books.google.com/books/content?id=gA5GP...</td>\n",
       "      <td>A new 'Christie for Christmas' -- a full-lengt...</td>\n",
       "      <td>2000.0</td>\n",
       "      <td>3.83</td>\n",
       "      <td>241.0</td>\n",
       "      <td>...</td>\n",
       "      <td>Spider's Web: A Novel</td>\n",
       "      <td>9780002261982 A new 'Christie for Christmas' -...</td>\n",
       "      <td>Fiction</td>\n",
       "      <td>0.612619</td>\n",
       "      <td>0.348285</td>\n",
       "      <td>0.942528</td>\n",
       "      <td>0.704422</td>\n",
       "      <td>0.887940</td>\n",
       "      <td>0.111690</td>\n",
       "      <td>0.252546</td>\n",
       "    </tr>\n",
       "    <tr>\n",
       "      <th>2</th>\n",
       "      <td>9780006178736</td>\n",
       "      <td>0006178731</td>\n",
       "      <td>Rage of angels</td>\n",
       "      <td>Sidney Sheldon</td>\n",
       "      <td>Fiction</td>\n",
       "      <td>http://books.google.com/books/content?id=FKo2T...</td>\n",
       "      <td>A memorable, mesmerizing heroine Jennifer -- b...</td>\n",
       "      <td>1993.0</td>\n",
       "      <td>3.93</td>\n",
       "      <td>512.0</td>\n",
       "      <td>...</td>\n",
       "      <td>Rage of angels</td>\n",
       "      <td>9780006178736 A memorable, mesmerizing heroine...</td>\n",
       "      <td>Fiction</td>\n",
       "      <td>0.064134</td>\n",
       "      <td>0.104007</td>\n",
       "      <td>0.972321</td>\n",
       "      <td>0.767237</td>\n",
       "      <td>0.549477</td>\n",
       "      <td>0.111690</td>\n",
       "      <td>0.078766</td>\n",
       "    </tr>\n",
       "    <tr>\n",
       "      <th>3</th>\n",
       "      <td>9780006280897</td>\n",
       "      <td>0006280897</td>\n",
       "      <td>The Four Loves</td>\n",
       "      <td>Clive Staples Lewis</td>\n",
       "      <td>Christian life</td>\n",
       "      <td>http://books.google.com/books/content?id=XhQ5X...</td>\n",
       "      <td>Lewis' work on the nature of love divides love...</td>\n",
       "      <td>2002.0</td>\n",
       "      <td>4.15</td>\n",
       "      <td>170.0</td>\n",
       "      <td>...</td>\n",
       "      <td>The Four Loves</td>\n",
       "      <td>9780006280897 Lewis' work on the nature of lov...</td>\n",
       "      <td>Nonfiction</td>\n",
       "      <td>0.351484</td>\n",
       "      <td>0.150723</td>\n",
       "      <td>0.360707</td>\n",
       "      <td>0.251881</td>\n",
       "      <td>0.732686</td>\n",
       "      <td>0.111690</td>\n",
       "      <td>0.078766</td>\n",
       "    </tr>\n",
       "    <tr>\n",
       "      <th>4</th>\n",
       "      <td>9780006280934</td>\n",
       "      <td>0006280935</td>\n",
       "      <td>The Problem of Pain</td>\n",
       "      <td>Clive Staples Lewis</td>\n",
       "      <td>Christian life</td>\n",
       "      <td>http://books.google.com/books/content?id=Kk-uV...</td>\n",
       "      <td>\"In The Problem of Pain, C.S. Lewis, one of th...</td>\n",
       "      <td>2002.0</td>\n",
       "      <td>4.09</td>\n",
       "      <td>176.0</td>\n",
       "      <td>...</td>\n",
       "      <td>The Problem of Pain</td>\n",
       "      <td>9780006280934 \"In The Problem of Pain, C.S. Le...</td>\n",
       "      <td>Nonfiction</td>\n",
       "      <td>0.081412</td>\n",
       "      <td>0.184495</td>\n",
       "      <td>0.095043</td>\n",
       "      <td>0.040564</td>\n",
       "      <td>0.884390</td>\n",
       "      <td>0.475880</td>\n",
       "      <td>0.078766</td>\n",
       "    </tr>\n",
       "  </tbody>\n",
       "</table>\n",
       "<p>5 rows × 21 columns</p>\n",
       "</div>"
      ]
     },
     "execution_count": 18,
     "metadata": {},
     "output_type": "execute_result"
    }
   ],
   "execution_count": 18
  },
  {
   "metadata": {
    "ExecuteTime": {
     "end_time": "2025-10-03T21:04:09.385677Z",
     "start_time": "2025-10-03T21:04:09.277501Z"
    }
   },
   "cell_type": "code",
   "source": "books.to_csv(\"data/books_with_emotions.csv\", index=False)",
   "id": "ec99151471089cdd",
   "outputs": [],
   "execution_count": 19
  }
 ],
 "metadata": {
  "kernelspec": {
   "name": "python3",
   "language": "python",
   "display_name": "Python 3 (ipykernel)"
  }
 },
 "nbformat": 4,
 "nbformat_minor": 9
}
