{
 "cells": [
  {
   "metadata": {},
   "cell_type": "code",
   "source": [
    "import pandas as pd\n",
    "books = pd.read_csv('data/books_cleaned.csv')"
   ],
   "id": "19120beebc2f5b56",
   "outputs": [],
   "execution_count": null
  },
  {
   "metadata": {},
   "cell_type": "code",
   "source": "books[\"categories\"].value_counts().reset_index()",
   "id": "f79e7a4308aceb4c",
   "outputs": [],
   "execution_count": null
  },
  {
   "metadata": {},
   "cell_type": "code",
   "source": "books[\"categories\"].value_counts().reset_index().query(\"count > 50\")",
   "id": "115e285d0e2ecb8e",
   "outputs": [],
   "execution_count": null
  },
  {
   "metadata": {},
   "cell_type": "code",
   "source": "books[books[\"categories\"] == \"Juvenile Fiction\"]",
   "id": "24128070347dff6e",
   "outputs": [],
   "execution_count": null
  },
  {
   "metadata": {},
   "cell_type": "code",
   "source": "books[books[\"categories\"] == \"Juvenile Nonfiction\"]",
   "id": "caf6d280a12cecd8",
   "outputs": [],
   "execution_count": null
  },
  {
   "metadata": {},
   "cell_type": "code",
   "source": [
    "category_mapping = {\n",
    "    'Fiction': \"Fiction\",\n",
    "    'Juvenile Fiction': \"Children's Fiction\",\n",
    "    'Biography & Autobiography': \"Nonfiction\",\n",
    "    'History': \"Nonfiction\",\n",
    "    'Literary Criticism': \"Nonfiction\",\n",
    "    'Philosophy': \"Nonfiction\",\n",
    "    'Religion': \"Nonfiction\",\n",
    "    'Comics & Graphic Novels': \"Fiction\",\n",
    "    'Drama': \"Fiction\",\n",
    "    'Juvenile Nonfiction': \"Children's Nonfiction\",\n",
    "    'Science': \"Nonfiction\",\n",
    "    'Poetry': \"Fiction\"\n",
    "}\n",
    "\n",
    "books[\"simple_categories\"] = books[\"categories\"].map(category_mapping)"
   ],
   "id": "e568c0bd4f4edf2b",
   "outputs": [],
   "execution_count": null
  },
  {
   "metadata": {},
   "cell_type": "code",
   "source": "books",
   "id": "4d0843082d132048",
   "outputs": [],
   "execution_count": null
  },
  {
   "metadata": {},
   "cell_type": "code",
   "source": "books[~(books[\"simple_categories\"].isna())]",
   "id": "b7f4c6786d1ab85d",
   "outputs": [],
   "execution_count": null
  },
  {
   "metadata": {},
   "cell_type": "code",
   "source": [
    "from transformers import pipeline\n",
    "\n",
    "fiction_categories = ['Fiction', 'Nonfiction']\n",
    "\n",
    "pipe = pipeline('zero-shot-classification', model='facebook/bart-large-mnli', device=0)"
   ],
   "id": "cc485ff83c3935b",
   "outputs": [],
   "execution_count": null
  },
  {
   "metadata": {},
   "cell_type": "code",
   "source": "sequence = books.loc[books[\"simple_categories\"] == 'Fiction', 'description'].reset_index(drop=True)[0]",
   "id": "a955d998b9223aa8",
   "outputs": [],
   "execution_count": null
  },
  {
   "metadata": {},
   "cell_type": "code",
   "source": "pipe(sequence, fiction_categories)",
   "id": "7a3b87abb6585c20",
   "outputs": [],
   "execution_count": null
  },
  {
   "metadata": {},
   "cell_type": "code",
   "source": [
    "import numpy as np\n",
    "\n",
    "max_index = np.argmax(pipe(sequence, fiction_categories)[\"scores\"])\n",
    "max_label = pipe(sequence, fiction_categories)[\"labels\"][max_index]\n",
    "max_label"
   ],
   "id": "60b7a5e1b3fbe2b5",
   "outputs": [],
   "execution_count": null
  },
  {
   "metadata": {},
   "cell_type": "code",
   "source": [
    "def generate_predictions(sequence, categories):\n",
    "  predictions = pipe(sequence, categories)\n",
    "  max_index = np.argmax(predictions[\"scores\"])\n",
    "  max_label = predictions[\"labels\"][max_index]\n",
    "  return max_label"
   ],
   "id": "66899157c9762dad",
   "outputs": [],
   "execution_count": null
  },
  {
   "metadata": {},
   "cell_type": "code",
   "source": [
    "from tqdm import tqdm\n",
    "\n",
    "actual_cats = []\n",
    "predicted_cats = []\n",
    "\n",
    "for i in tqdm(range(0, 300)):\n",
    "  sequence = books.loc[books[\"simple_categories\"] == 'Fiction', 'description'].reset_index(drop=True)[i]\n",
    "  predicted_cats.append(generate_predictions(sequence, fiction_categories))\n",
    "  actual_cats += [\"Fiction\"]"
   ],
   "id": "59f832adef7d459d",
   "outputs": [],
   "execution_count": null
  },
  {
   "metadata": {},
   "cell_type": "code",
   "source": [
    "for i in tqdm(range(0, 300)):\n",
    "  sequence = books.loc[books[\"simple_categories\"] == 'Nonfiction', 'description'].reset_index(drop=True)[i]\n",
    "  predicted_cats.append(generate_predictions(sequence, fiction_categories))\n",
    "  actual_cats += [\"Nonfiction\"]"
   ],
   "id": "fd77bf127953ee3e",
   "outputs": [],
   "execution_count": null
  },
  {
   "metadata": {},
   "cell_type": "code",
   "source": "predictions_df = pd.DataFrame({\"actual_categories\": actual_cats, \"predicted_categories\": predicted_cats})",
   "id": "d6b1f8a1158afdd7",
   "outputs": [],
   "execution_count": null
  },
  {
   "metadata": {},
   "cell_type": "code",
   "source": "predictions_df",
   "id": "f69311892dd64aba",
   "outputs": [],
   "execution_count": null
  },
  {
   "metadata": {},
   "cell_type": "code",
   "source": "predictions_df['correct_prediction'] = np.where(predictions_df['actual_categories'] == predictions_df['predicted_categories'], 1, 0)",
   "id": "6f2d17265a4212f7",
   "outputs": [],
   "execution_count": null
  },
  {
   "metadata": {},
   "cell_type": "code",
   "source": "predictions_df['correct_prediction'].sum() / len(predictions_df)",
   "id": "4670349c6eb19fae",
   "outputs": [],
   "execution_count": null
  },
  {
   "metadata": {},
   "cell_type": "code",
   "source": [
    "isbns = []\n",
    "predicted_cats = []\n",
    "\n",
    "missing_cats = books.loc[books[\"simple_categories\"].isna(), [\"isbn13\", \"description\"]].reset_index(drop=True)"
   ],
   "id": "f8ae9b002b5562ad",
   "outputs": [],
   "execution_count": null
  },
  {
   "metadata": {},
   "cell_type": "code",
   "source": [
    "for i in tqdm(range(0, len(missing_cats))):\n",
    "  sequence = missing_cats[\"description\"][i]\n",
    "  predicted_cats.append(generate_predictions(sequence, fiction_categories))\n",
    "  isbns.append(missing_cats[\"isbn13\"][i])"
   ],
   "id": "97c970c87d7d0a10",
   "outputs": [],
   "execution_count": null
  },
  {
   "metadata": {},
   "cell_type": "code",
   "source": "missing_predicted_df = pd.DataFrame({\"isbn13\": isbns, \"predicted_categories\": predicted_cats})",
   "id": "1d990a71e75e963c",
   "outputs": [],
   "execution_count": null
  },
  {
   "metadata": {},
   "cell_type": "code",
   "source": "missing_predicted_df",
   "id": "d52a308d0310d681",
   "outputs": [],
   "execution_count": null
  },
  {
   "metadata": {},
   "cell_type": "code",
   "source": [
    "books = pd.merge(books, missing_predicted_df, on=\"isbn13\", how=\"left\")\n",
    "books[\"simple_categories\"] = np.where(books[\"simple_categories\"].isna(), books[\"predicted_categories\"], books[\"simple_categories\"])\n",
    "books = books.drop(columns = [\"predicted_categories\"])"
   ],
   "id": "f0c7f60d990fcd90",
   "outputs": [],
   "execution_count": null
  },
  {
   "metadata": {},
   "cell_type": "code",
   "source": "books['simple_categories'].isna().sum()",
   "id": "e99970e1fff114bc",
   "outputs": [],
   "execution_count": null
  },
  {
   "metadata": {},
   "cell_type": "code",
   "source": "books",
   "id": "c6a12daeb05c1044",
   "outputs": [],
   "execution_count": null
  },
  {
   "metadata": {},
   "cell_type": "code",
   "source": "books.to_csv(\"data/books_with_categories.csv\", index=False)",
   "id": "c797e5ea1d14386d",
   "outputs": [],
   "execution_count": null
  }
 ],
 "metadata": {
  "kernelspec": {
   "name": "python3",
   "language": "python",
   "display_name": "Python 3 (ipykernel)"
  }
 },
 "nbformat": 4,
 "nbformat_minor": 9
}
